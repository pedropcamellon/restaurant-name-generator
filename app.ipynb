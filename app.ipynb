{
 "cells": [
  {
   "cell_type": "markdown",
   "metadata": {},
   "source": [
    "# Restaurant Name"
   ]
  },
  {
   "cell_type": "code",
   "execution_count": 1,
   "metadata": {
    "ExecuteTime": {
     "end_time": "2024-02-09T01:08:06.156055Z",
     "start_time": "2024-02-09T01:08:06.081791Z"
    }
   },
   "outputs": [
    {
     "data": {
      "text/plain": [
       "True"
      ]
     },
     "execution_count": 1,
     "metadata": {},
     "output_type": "execute_result"
    }
   ],
   "source": [
    "# Load env variables\n",
    "from dotenv import load_dotenv\n",
    "\n",
    "load_dotenv()"
   ]
  },
  {
   "cell_type": "code",
   "execution_count": 14,
   "metadata": {},
   "outputs": [
    {
     "name": "stdout",
     "output_type": "stream",
     "text": [
      "Paris\n",
      "\n"
     ]
    }
   ],
   "source": [
    "from langchain_google_genai import ChatGoogleGenerativeAI\n",
    "\n",
    "llm = ChatGoogleGenerativeAI(model=\"gemini-2.0-flash\")\n",
    "\n",
    "# Simple text invocation\n",
    "result = llm.invoke(\"What is the capital of France? Provide only the name of the city.\")\n",
    "print(result.content)"
   ]
  },
  {
   "cell_type": "code",
   "execution_count": 5,
   "metadata": {},
   "outputs": [
    {
     "data": {
      "text/plain": [
       "'I want to open a restaurant for Chinese cuisine. Suggest a good restaurant name. Response must include only the name of the restaurant.'"
      ]
     },
     "execution_count": 5,
     "metadata": {},
     "output_type": "execute_result"
    }
   ],
   "source": [
    "from langchain.prompts import PromptTemplate\n",
    "\n",
    "restaurant_name_prompt_template = PromptTemplate(\n",
    "    input_variables=[\"cuisine\"],\n",
    "    template=\"I want to open a restaurant for {cuisine} cuisine. Suggest a good restaurant name. Response must include only the name of the restaurant.\",\n",
    ")\n",
    "\n",
    "restaurant_name_prompt_template_formatted = restaurant_name_prompt_template.format(cuisine=\"Chinese\")\n",
    "restaurant_name_prompt_template_formatted"
   ]
  },
  {
   "cell_type": "code",
   "execution_count": 7,
   "metadata": {},
   "outputs": [
    {
     "name": "stdout",
     "output_type": "stream",
     "text": [
      "{'cuisine': 'Chinese', 'text': 'Golden Dragon\\n'}\n"
     ]
    }
   ],
   "source": [
    "from langchain.chains import LLMChain\n",
    "\n",
    "restaurant_name_chain = LLMChain(\n",
    "    prompt=restaurant_name_prompt_template, llm=llm\n",
    ")\n",
    "\n",
    "name_of_restaurant = restaurant_name_chain.invoke(\"Chinese\")\n",
    "\n",
    "print(name_of_restaurant)"
   ]
  },
  {
   "cell_type": "markdown",
   "metadata": {},
   "source": [
    "# Simple Sequential Chain"
   ]
  },
  {
   "cell_type": "code",
   "execution_count": 8,
   "metadata": {},
   "outputs": [],
   "source": [
    "food_items_prompt_template = PromptTemplate(\n",
    "    input_variables=[\"restaurant_name\"],\n",
    "    template=\"Provide three items as comma separated list to include in a menu for a restaurant called {restaurant_name}. Response must include only the items.\",\n",
    ")\n",
    "\n",
    "food_items_chain = LLMChain(\n",
    "    prompt=food_items_prompt_template, llm=llm, verbose=True\n",
    ")"
   ]
  },
  {
   "cell_type": "code",
   "execution_count": 11,
   "metadata": {},
   "outputs": [
    {
     "name": "stdout",
     "output_type": "stream",
     "text": [
      "\n",
      "\n",
      "\u001b[1m> Entering new SimpleSequentialChain chain...\u001b[0m\n",
      "\u001b[36;1m\u001b[1;3mGolden Dragon\n",
      "\u001b[0m\n",
      "\n",
      "\n",
      "\u001b[1m> Entering new LLMChain chain...\u001b[0m\n",
      "Prompt after formatting:\n",
      "\u001b[32;1m\u001b[1;3mProvide three items as comma separated list to include in a menu for a restaurant called Golden Dragon\n",
      ". Response must include only the items.\u001b[0m\n",
      "\n",
      "\u001b[1m> Finished chain.\u001b[0m\n",
      "\u001b[33;1m\u001b[1;3mPeking Duck, Kung Pao Chicken, Spring Rolls\n",
      "\u001b[0m\n",
      "\n",
      "\u001b[1m> Finished chain.\u001b[0m\n",
      "Chinese:\n",
      "{'Peking Duck, Kung Pao Chicken, Spring Rolls\\n'}\n"
     ]
    }
   ],
   "source": [
    "from langchain.chains import SimpleSequentialChain\n",
    "\n",
    "overall_chain = SimpleSequentialChain(\n",
    "    chains=[restaurant_name_chain, food_items_chain], verbose=True\n",
    ")\n",
    "\n",
    "menu_items = overall_chain.invoke(\"Chinese\")\n",
    "\n",
    "print(f\"{menu_items['input']}:\")\n",
    "print({menu_items['output']})"
   ]
  },
  {
   "cell_type": "markdown",
   "metadata": {},
   "source": [
    "# Sequential Chain"
   ]
  },
  {
   "cell_type": "code",
   "execution_count": 12,
   "metadata": {},
   "outputs": [
    {
     "name": "stderr",
     "output_type": "stream",
     "text": [
      "d:\\Documents\\GitHub\\restaurant-name-generator\\.venv\\Lib\\site-packages\\langchain_core\\_api\\deprecation.py:117: LangChainDeprecationWarning: The function `__call__` was deprecated in LangChain 0.1.0 and will be removed in 0.2.0. Use invoke instead.\n",
      "  warn_deprecated(\n"
     ]
    },
    {
     "name": "stdout",
     "output_type": "stream",
     "text": [
      "\n",
      "\n",
      "\u001b[1m> Entering new SequentialChain chain...\u001b[0m\n",
      "\n",
      "\n",
      "\u001b[1m> Entering new LLMChain chain...\u001b[0m\n",
      "Prompt after formatting:\n",
      "\u001b[32;1m\u001b[1;3mProvide three items as comma separated list to include in a menu for a restaurant called The Blue Plate Special\n",
      ". Response must include only the items.\u001b[0m\n",
      "\n",
      "\u001b[1m> Finished chain.\u001b[0m\n",
      "\n",
      "\u001b[1m> Finished chain.\u001b[0m\n"
     ]
    },
    {
     "data": {
      "text/plain": [
       "{'cuisine': 'American',\n",
       " 'restaurant_name': 'The Blue Plate Special\\n',\n",
       " 'food_items': 'Meatloaf, Mashed Potatoes, Green Beans\\n'}"
      ]
     },
     "execution_count": 12,
     "metadata": {},
     "output_type": "execute_result"
    }
   ],
   "source": [
    "from langchain.chains import SequentialChain\n",
    "\n",
    "restaurant_name_chain = LLMChain(\n",
    "    prompt=restaurant_name_prompt_template, llm=llm, output_key=\"restaurant_name\"\n",
    ")\n",
    "\n",
    "food_items_chain = LLMChain(\n",
    "    prompt=food_items_prompt_template, llm=llm, verbose=True, output_key=\"food_items\"\n",
    ")\n",
    "\n",
    "seq_chain = SequentialChain(chains=[restaurant_name_chain, food_items_chain], input_variables=[\"cuisine\"], output_variables=[\"restaurant_name\", \"food_items\"], verbose=True)\n",
    "\n",
    "seq_chain({\"cuisine\": \"American\"})"
   ]
  }
 ],
 "metadata": {
  "kernelspec": {
   "display_name": ".venv",
   "language": "python",
   "name": "python3"
  },
  "language_info": {
   "codemirror_mode": {
    "name": "ipython",
    "version": 3
   },
   "file_extension": ".py",
   "mimetype": "text/x-python",
   "name": "python",
   "nbconvert_exporter": "python",
   "pygments_lexer": "ipython3",
   "version": "3.11.9"
  }
 },
 "nbformat": 4,
 "nbformat_minor": 2
}
